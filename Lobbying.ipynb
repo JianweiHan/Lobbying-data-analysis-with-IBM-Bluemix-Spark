{
 "cells": [
  {
   "cell_type": "code",
   "execution_count": 1,
   "metadata": {
    "collapsed": true
   },
   "outputs": [],
   "source": [
    "# Import SQLContext and data types\n",
    "from pyspark.sql import SQLContext\n",
    "from pyspark.sql.types import *\n",
    "\n",
    "# sc is an existing SparkContext.\n",
    "sqlContext = SQLContext(sc)"
   ]
  },
  {
   "cell_type": "code",
   "execution_count": 2,
   "metadata": {
    "collapsed": true
   },
   "outputs": [],
   "source": [
    "jsonFile = sqlContext.read.json(\"swift://notebooks.spark/lobbying.json\")"
   ]
  },
  {
   "cell_type": "code",
   "execution_count": 3,
   "metadata": {
    "collapsed": false
   },
   "outputs": [
    {
     "name": "stdout",
     "output_type": "stream",
     "text": [
      "DataFrame[PublicFilings: struct<#text:string,Filing:array<struct<#tail:string,@AffiliatedOrgsURL:string,@Amount:string,@ID:string,@Period:string,@Received:string,@RegistrationEffectiveDate:string,@TerminationEffectiveDate:string,@Type:string,@Year:string,AffiliatedOrgs:struct<Org:string>,Client:struct<@ClientCountry:string,@ClientID:string,@ClientName:string,@ClientPPBCountry:string,@ClientPPBState:string,@ClientState:string,@ContactFullname:string,@GeneralDescription:string,@IsStateOrLocalGov:string,@SelfFiler:string>,ForeignEntities:struct<Entity:string>,GovernmentEntities:struct<GovernmentEntity:string>,Issues:struct<Issue:string>,Lobbyists:struct<Lobbyist:string>,Registrant:struct<@Address:string,@GeneralDescription:string,@RegistrantCountry:string,@RegistrantID:string,@RegistrantName:string,@RegistrantPPBCountry:string>>>>, _corrupt_record: string]\n"
     ]
    }
   ],
   "source": [
    "print jsonFile"
   ]
  },
  {
   "cell_type": "code",
   "execution_count": 4,
   "metadata": {
    "collapsed": true
   },
   "outputs": [],
   "source": [
    "jsonFile.registerTempTable(\"lobbyings\");"
   ]
  },
  {
   "cell_type": "code",
   "execution_count": 5,
   "metadata": {
    "collapsed": true
   },
   "outputs": [],
   "source": [
    "sqlContext.cacheTable(\"lobbyings\")"
   ]
  },
  {
   "cell_type": "code",
   "execution_count": 6,
   "metadata": {
    "collapsed": true
   },
   "outputs": [],
   "source": [
    "lobbyings = sqlContext.sql(\"SELECT * FROM lobbyings\")"
   ]
  },
  {
   "cell_type": "code",
   "execution_count": 7,
   "metadata": {
    "collapsed": false
   },
   "outputs": [
    {
     "data": {
      "text/plain": [
       "DataFrame[PublicFilings: struct<#text:string,Filing:array<struct<#tail:string,@AffiliatedOrgsURL:string,@Amount:string,@ID:string,@Period:string,@Received:string,@RegistrationEffectiveDate:string,@TerminationEffectiveDate:string,@Type:string,@Year:string,AffiliatedOrgs:struct<Org:string>,Client:struct<@ClientCountry:string,@ClientID:string,@ClientName:string,@ClientPPBCountry:string,@ClientPPBState:string,@ClientState:string,@ContactFullname:string,@GeneralDescription:string,@IsStateOrLocalGov:string,@SelfFiler:string>,ForeignEntities:struct<Entity:string>,GovernmentEntities:struct<GovernmentEntity:string>,Issues:struct<Issue:string>,Lobbyists:struct<Lobbyist:string>,Registrant:struct<@Address:string,@GeneralDescription:string,@RegistrantCountry:string,@RegistrantID:string,@RegistrantName:string,@RegistrantPPBCountry:string>>>>, _corrupt_record: string]"
      ]
     },
     "execution_count": 7,
     "metadata": {},
     "output_type": "execute_result"
    }
   ],
   "source": [
    "lobbyings.cache()"
   ]
  },
  {
   "cell_type": "code",
   "execution_count": 8,
   "metadata": {
    "collapsed": false
   },
   "outputs": [
    {
     "name": "stdout",
     "output_type": "stream",
     "text": [
      "root\n",
      " |-- PublicFilings: struct (nullable = true)\n",
      " |    |-- #text: string (nullable = true)\n",
      " |    |-- Filing: array (nullable = true)\n",
      " |    |    |-- element: struct (containsNull = true)\n",
      " |    |    |    |-- #tail: string (nullable = true)\n",
      " |    |    |    |-- @AffiliatedOrgsURL: string (nullable = true)\n",
      " |    |    |    |-- @Amount: string (nullable = true)\n",
      " |    |    |    |-- @ID: string (nullable = true)\n",
      " |    |    |    |-- @Period: string (nullable = true)\n",
      " |    |    |    |-- @Received: string (nullable = true)\n",
      " |    |    |    |-- @RegistrationEffectiveDate: string (nullable = true)\n",
      " |    |    |    |-- @TerminationEffectiveDate: string (nullable = true)\n",
      " |    |    |    |-- @Type: string (nullable = true)\n",
      " |    |    |    |-- @Year: string (nullable = true)\n",
      " |    |    |    |-- AffiliatedOrgs: struct (nullable = true)\n",
      " |    |    |    |    |-- Org: string (nullable = true)\n",
      " |    |    |    |-- Client: struct (nullable = true)\n",
      " |    |    |    |    |-- @ClientCountry: string (nullable = true)\n",
      " |    |    |    |    |-- @ClientID: string (nullable = true)\n",
      " |    |    |    |    |-- @ClientName: string (nullable = true)\n",
      " |    |    |    |    |-- @ClientPPBCountry: string (nullable = true)\n",
      " |    |    |    |    |-- @ClientPPBState: string (nullable = true)\n",
      " |    |    |    |    |-- @ClientState: string (nullable = true)\n",
      " |    |    |    |    |-- @ContactFullname: string (nullable = true)\n",
      " |    |    |    |    |-- @GeneralDescription: string (nullable = true)\n",
      " |    |    |    |    |-- @IsStateOrLocalGov: string (nullable = true)\n",
      " |    |    |    |    |-- @SelfFiler: string (nullable = true)\n",
      " |    |    |    |-- ForeignEntities: struct (nullable = true)\n",
      " |    |    |    |    |-- Entity: string (nullable = true)\n",
      " |    |    |    |-- GovernmentEntities: struct (nullable = true)\n",
      " |    |    |    |    |-- GovernmentEntity: string (nullable = true)\n",
      " |    |    |    |-- Issues: struct (nullable = true)\n",
      " |    |    |    |    |-- Issue: string (nullable = true)\n",
      " |    |    |    |-- Lobbyists: struct (nullable = true)\n",
      " |    |    |    |    |-- Lobbyist: string (nullable = true)\n",
      " |    |    |    |-- Registrant: struct (nullable = true)\n",
      " |    |    |    |    |-- @Address: string (nullable = true)\n",
      " |    |    |    |    |-- @GeneralDescription: string (nullable = true)\n",
      " |    |    |    |    |-- @RegistrantCountry: string (nullable = true)\n",
      " |    |    |    |    |-- @RegistrantID: string (nullable = true)\n",
      " |    |    |    |    |-- @RegistrantName: string (nullable = true)\n",
      " |    |    |    |    |-- @RegistrantPPBCountry: string (nullable = true)\n",
      " |-- _corrupt_record: string (nullable = true)\n",
      "\n"
     ]
    }
   ],
   "source": [
    "lobbyings.printSchema()"
   ]
  },
  {
   "cell_type": "code",
   "execution_count": 9,
   "metadata": {
    "collapsed": true
   },
   "outputs": [],
   "source": [
    "from pyspark.sql.functions import explode"
   ]
  },
  {
   "cell_type": "code",
   "execution_count": 10,
   "metadata": {
    "collapsed": true
   },
   "outputs": [],
   "source": [
    "clientState = sqlContext.sql(\"select lobbyings.PublicFilings.Filing.Client.`@ClientState` as state from lobbyings\")"
   ]
  },
  {
   "cell_type": "code",
   "execution_count": 11,
   "metadata": {
    "collapsed": false
   },
   "outputs": [
    {
     "name": "stdout",
     "output_type": "stream",
     "text": [
      "root\n",
      " |-- state: array (nullable = true)\n",
      " |    |-- element: string (containsNull = true)\n",
      "\n"
     ]
    }
   ],
   "source": [
    "clientState.printSchema()"
   ]
  },
  {
   "cell_type": "code",
   "execution_count": 12,
   "metadata": {
    "collapsed": false
   },
   "outputs": [
    {
     "name": "stdout",
     "output_type": "stream",
     "text": [
      "+--------------------+\n",
      "|               state|\n",
      "+--------------------+\n",
      "|                null|\n",
      "|List(GEORGIA, , D...|\n",
      "|List(VIRGINIA, CA...|\n",
      "|List(DISTRICT OF ...|\n",
      "|List(NEW JERSEY, ...|\n",
      "|List(VIRGINIA, VI...|\n",
      "|List(MISSOURI, DI...|\n",
      "|List(WASHINGTON, ...|\n",
      "|List(VIRGINIA, CA...|\n",
      "|List(CALIFORNIA, ...|\n",
      "|List(DISTRICT OF ...|\n",
      "|List(TEXAS, VIRGI...|\n",
      "|List(, CALIFORNIA...|\n",
      "|List(TEXAS, FLORI...|\n",
      "|List(MASSACHUSETT...|\n",
      "|List(VIRGINIA, SO...|\n",
      "|List(OKLAHOMA, OK...|\n",
      "|List(OREGON, DIST...|\n",
      "|List(DISTRICT OF ...|\n",
      "|List(CALIFORNIA, ...|\n",
      "+--------------------+\n",
      "\n"
     ]
    }
   ],
   "source": [
    "clientState.show()"
   ]
  },
  {
   "cell_type": "code",
   "execution_count": 13,
   "metadata": {
    "collapsed": true
   },
   "outputs": [],
   "source": [
    "ClientState_flat = clientState.select(explode(clientState.state))"
   ]
  },
  {
   "cell_type": "code",
   "execution_count": 14,
   "metadata": {
    "collapsed": false
   },
   "outputs": [
    {
     "name": "stdout",
     "output_type": "stream",
     "text": [
      "+--------------------+\n",
      "|                 _c0|\n",
      "+--------------------+\n",
      "|             GEORGIA|\n",
      "|                    |\n",
      "|DISTRICT OF COLUMBIA|\n",
      "|                    |\n",
      "|         PUERTO RICO|\n",
      "|                    |\n",
      "|            ILLINOIS|\n",
      "|DISTRICT OF COLUMBIA|\n",
      "|           LOUISIANA|\n",
      "|        PENNSYLVANIA|\n",
      "|DISTRICT OF COLUMBIA|\n",
      "|          CALIFORNIA|\n",
      "|        PENNSYLVANIA|\n",
      "|DISTRICT OF COLUMBIA|\n",
      "|             GEORGIA|\n",
      "|            NEW YORK|\n",
      "|            VIRGINIA|\n",
      "|           LOUISIANA|\n",
      "|           LOUISIANA|\n",
      "|DISTRICT OF COLUMBIA|\n",
      "+--------------------+\n",
      "\n"
     ]
    }
   ],
   "source": [
    "ClientState_flat.show()"
   ]
  },
  {
   "cell_type": "code",
   "execution_count": 15,
   "metadata": {
    "collapsed": true
   },
   "outputs": [],
   "source": [
    "ClientState_flatGroup = ClientState_flat.groupBy(\"_c0\").count()"
   ]
  },
  {
   "cell_type": "code",
   "execution_count": 16,
   "metadata": {
    "collapsed": true
   },
   "outputs": [],
   "source": [
    "ClientState_flat_sorted_df = ClientState_flatGroup.sort([\"count\"],ascending=False)"
   ]
  },
  {
   "cell_type": "code",
   "execution_count": 17,
   "metadata": {
    "collapsed": false
   },
   "outputs": [
    {
     "name": "stdout",
     "output_type": "stream",
     "text": [
      "+--------------------+-----+\n",
      "|                 _c0|count|\n",
      "+--------------------+-----+\n",
      "|DISTRICT OF COLUMBIA|28528|\n",
      "|          CALIFORNIA| 7250|\n",
      "|            VIRGINIA| 7113|\n",
      "|            NEW YORK| 4495|\n",
      "|                    | 4482|\n",
      "|               TEXAS| 3848|\n",
      "|             FLORIDA| 2914|\n",
      "|            ILLINOIS| 2542|\n",
      "|        PENNSYLVANIA| 2269|\n",
      "|            MARYLAND| 2255|\n",
      "|       MASSACHUSETTS| 2062|\n",
      "|          NEW JERSEY| 1757|\n",
      "|                OHIO| 1703|\n",
      "|          WASHINGTON| 1599|\n",
      "|             GEORGIA| 1310|\n",
      "|            COLORADO| 1266|\n",
      "|      NORTH CAROLINA| 1131|\n",
      "|            MISSOURI| 1122|\n",
      "|           MINNESOTA| 1050|\n",
      "|            MICHIGAN| 1032|\n",
      "+--------------------+-----+\n",
      "\n"
     ]
    }
   ],
   "source": [
    "ClientState_flat_sorted_df.show()"
   ]
  },
  {
   "cell_type": "code",
   "execution_count": 18,
   "metadata": {
    "collapsed": true
   },
   "outputs": [],
   "source": [
    "ClientState_flat_sorted_df = ClientState_flat_sorted_df.filter(ClientState_flat_sorted_df['_c0'] != \"\")"
   ]
  },
  {
   "cell_type": "code",
   "execution_count": 19,
   "metadata": {
    "collapsed": false
   },
   "outputs": [
    {
     "name": "stdout",
     "output_type": "stream",
     "text": [
      "+--------------------+-----+\n",
      "|                 _c0|count|\n",
      "+--------------------+-----+\n",
      "|DISTRICT OF COLUMBIA|28528|\n",
      "|          CALIFORNIA| 7250|\n",
      "|            VIRGINIA| 7113|\n",
      "|            NEW YORK| 4495|\n",
      "|               TEXAS| 3848|\n",
      "|             FLORIDA| 2914|\n",
      "|            ILLINOIS| 2542|\n",
      "|        PENNSYLVANIA| 2269|\n",
      "|            MARYLAND| 2255|\n",
      "|       MASSACHUSETTS| 2062|\n",
      "|          NEW JERSEY| 1757|\n",
      "|                OHIO| 1703|\n",
      "|          WASHINGTON| 1599|\n",
      "|             GEORGIA| 1310|\n",
      "|            COLORADO| 1266|\n",
      "|      NORTH CAROLINA| 1131|\n",
      "|            MISSOURI| 1122|\n",
      "|           MINNESOTA| 1050|\n",
      "|            MICHIGAN| 1032|\n",
      "|         CONNECTICUT|  974|\n",
      "+--------------------+-----+\n",
      "\n"
     ]
    }
   ],
   "source": [
    "ClientState_flat_sorted_df.show()"
   ]
  },
  {
   "cell_type": "code",
   "execution_count": 20,
   "metadata": {
    "collapsed": false
   },
   "outputs": [
    {
     "data": {
      "text/html": [
       "<div style=\"max-height:1000px;max-width:1500px;overflow:auto;\">\n",
       "<table border=\"1\" class=\"dataframe\">\n",
       "  <thead>\n",
       "    <tr style=\"text-align: right;\">\n",
       "      <th></th>\n",
       "      <th>_c0</th>\n",
       "      <th>count</th>\n",
       "    </tr>\n",
       "  </thead>\n",
       "  <tbody>\n",
       "    <tr>\n",
       "      <th>0 </th>\n",
       "      <td>     DISTRICT OF COLUMBIA</td>\n",
       "      <td> 28528</td>\n",
       "    </tr>\n",
       "    <tr>\n",
       "      <th>1 </th>\n",
       "      <td>               CALIFORNIA</td>\n",
       "      <td>  7250</td>\n",
       "    </tr>\n",
       "    <tr>\n",
       "      <th>2 </th>\n",
       "      <td>                 VIRGINIA</td>\n",
       "      <td>  7113</td>\n",
       "    </tr>\n",
       "    <tr>\n",
       "      <th>3 </th>\n",
       "      <td>                 NEW YORK</td>\n",
       "      <td>  4495</td>\n",
       "    </tr>\n",
       "    <tr>\n",
       "      <th>4 </th>\n",
       "      <td>                    TEXAS</td>\n",
       "      <td>  3848</td>\n",
       "    </tr>\n",
       "    <tr>\n",
       "      <th>5 </th>\n",
       "      <td>                  FLORIDA</td>\n",
       "      <td>  2914</td>\n",
       "    </tr>\n",
       "    <tr>\n",
       "      <th>6 </th>\n",
       "      <td>                 ILLINOIS</td>\n",
       "      <td>  2542</td>\n",
       "    </tr>\n",
       "    <tr>\n",
       "      <th>7 </th>\n",
       "      <td>             PENNSYLVANIA</td>\n",
       "      <td>  2269</td>\n",
       "    </tr>\n",
       "    <tr>\n",
       "      <th>8 </th>\n",
       "      <td>                 MARYLAND</td>\n",
       "      <td>  2255</td>\n",
       "    </tr>\n",
       "    <tr>\n",
       "      <th>9 </th>\n",
       "      <td>            MASSACHUSETTS</td>\n",
       "      <td>  2062</td>\n",
       "    </tr>\n",
       "    <tr>\n",
       "      <th>10</th>\n",
       "      <td>               NEW JERSEY</td>\n",
       "      <td>  1757</td>\n",
       "    </tr>\n",
       "    <tr>\n",
       "      <th>11</th>\n",
       "      <td>                     OHIO</td>\n",
       "      <td>  1703</td>\n",
       "    </tr>\n",
       "    <tr>\n",
       "      <th>12</th>\n",
       "      <td>               WASHINGTON</td>\n",
       "      <td>  1599</td>\n",
       "    </tr>\n",
       "    <tr>\n",
       "      <th>13</th>\n",
       "      <td>                  GEORGIA</td>\n",
       "      <td>  1310</td>\n",
       "    </tr>\n",
       "    <tr>\n",
       "      <th>14</th>\n",
       "      <td>                 COLORADO</td>\n",
       "      <td>  1266</td>\n",
       "    </tr>\n",
       "    <tr>\n",
       "      <th>15</th>\n",
       "      <td>           NORTH CAROLINA</td>\n",
       "      <td>  1131</td>\n",
       "    </tr>\n",
       "    <tr>\n",
       "      <th>16</th>\n",
       "      <td>                 MISSOURI</td>\n",
       "      <td>  1122</td>\n",
       "    </tr>\n",
       "    <tr>\n",
       "      <th>17</th>\n",
       "      <td>                MINNESOTA</td>\n",
       "      <td>  1050</td>\n",
       "    </tr>\n",
       "    <tr>\n",
       "      <th>18</th>\n",
       "      <td>                 MICHIGAN</td>\n",
       "      <td>  1032</td>\n",
       "    </tr>\n",
       "    <tr>\n",
       "      <th>19</th>\n",
       "      <td>              CONNECTICUT</td>\n",
       "      <td>   974</td>\n",
       "    </tr>\n",
       "    <tr>\n",
       "      <th>20</th>\n",
       "      <td>                  ARIZONA</td>\n",
       "      <td>   908</td>\n",
       "    </tr>\n",
       "    <tr>\n",
       "      <th>21</th>\n",
       "      <td>                  INDIANA</td>\n",
       "      <td>   858</td>\n",
       "    </tr>\n",
       "    <tr>\n",
       "      <th>22</th>\n",
       "      <td>                   OREGON</td>\n",
       "      <td>   829</td>\n",
       "    </tr>\n",
       "    <tr>\n",
       "      <th>23</th>\n",
       "      <td>                LOUISIANA</td>\n",
       "      <td>   783</td>\n",
       "    </tr>\n",
       "    <tr>\n",
       "      <th>24</th>\n",
       "      <td>                WISCONSIN</td>\n",
       "      <td>   780</td>\n",
       "    </tr>\n",
       "    <tr>\n",
       "      <th>25</th>\n",
       "      <td>                   ALASKA</td>\n",
       "      <td>   706</td>\n",
       "    </tr>\n",
       "    <tr>\n",
       "      <th>26</th>\n",
       "      <td>                  ALABAMA</td>\n",
       "      <td>   699</td>\n",
       "    </tr>\n",
       "    <tr>\n",
       "      <th>27</th>\n",
       "      <td>                TENNESSEE</td>\n",
       "      <td>   680</td>\n",
       "    </tr>\n",
       "    <tr>\n",
       "      <th>28</th>\n",
       "      <td>                 KENTUCKY</td>\n",
       "      <td>   650</td>\n",
       "    </tr>\n",
       "    <tr>\n",
       "      <th>29</th>\n",
       "      <td>                 OKLAHOMA</td>\n",
       "      <td>   599</td>\n",
       "    </tr>\n",
       "    <tr>\n",
       "      <th>30</th>\n",
       "      <td>                   NEVADA</td>\n",
       "      <td>   564</td>\n",
       "    </tr>\n",
       "    <tr>\n",
       "      <th>31</th>\n",
       "      <td>                     UTAH</td>\n",
       "      <td>   559</td>\n",
       "    </tr>\n",
       "    <tr>\n",
       "      <th>32</th>\n",
       "      <td>           SOUTH CAROLINA</td>\n",
       "      <td>   459</td>\n",
       "    </tr>\n",
       "    <tr>\n",
       "      <th>33</th>\n",
       "      <td>                   KANSAS</td>\n",
       "      <td>   422</td>\n",
       "    </tr>\n",
       "    <tr>\n",
       "      <th>34</th>\n",
       "      <td>               NEW MEXICO</td>\n",
       "      <td>   356</td>\n",
       "    </tr>\n",
       "    <tr>\n",
       "      <th>35</th>\n",
       "      <td>              MISSISSIPPI</td>\n",
       "      <td>   316</td>\n",
       "    </tr>\n",
       "    <tr>\n",
       "      <th>36</th>\n",
       "      <td>                     IOWA</td>\n",
       "      <td>   292</td>\n",
       "    </tr>\n",
       "    <tr>\n",
       "      <th>37</th>\n",
       "      <td>                 NEBRASKA</td>\n",
       "      <td>   247</td>\n",
       "    </tr>\n",
       "    <tr>\n",
       "      <th>38</th>\n",
       "      <td>                 DELAWARE</td>\n",
       "      <td>   243</td>\n",
       "    </tr>\n",
       "    <tr>\n",
       "      <th>39</th>\n",
       "      <td>                    IDAHO</td>\n",
       "      <td>   237</td>\n",
       "    </tr>\n",
       "    <tr>\n",
       "      <th>40</th>\n",
       "      <td>                 ARKANSAS</td>\n",
       "      <td>   229</td>\n",
       "    </tr>\n",
       "    <tr>\n",
       "      <th>41</th>\n",
       "      <td>                  MONTANA</td>\n",
       "      <td>   208</td>\n",
       "    </tr>\n",
       "    <tr>\n",
       "      <th>42</th>\n",
       "      <td>             SOUTH DAKOTA</td>\n",
       "      <td>   193</td>\n",
       "    </tr>\n",
       "    <tr>\n",
       "      <th>43</th>\n",
       "      <td>            NEW HAMPSHIRE</td>\n",
       "      <td>   159</td>\n",
       "    </tr>\n",
       "    <tr>\n",
       "      <th>44</th>\n",
       "      <td>                    MAINE</td>\n",
       "      <td>   146</td>\n",
       "    </tr>\n",
       "    <tr>\n",
       "      <th>45</th>\n",
       "      <td>             RHODE ISLAND</td>\n",
       "      <td>   146</td>\n",
       "    </tr>\n",
       "    <tr>\n",
       "      <th>46</th>\n",
       "      <td>             NORTH DAKOTA</td>\n",
       "      <td>   142</td>\n",
       "    </tr>\n",
       "    <tr>\n",
       "      <th>47</th>\n",
       "      <td>            WEST VIRGINIA</td>\n",
       "      <td>   117</td>\n",
       "    </tr>\n",
       "    <tr>\n",
       "      <th>48</th>\n",
       "      <td>                   HAWAII</td>\n",
       "      <td>    97</td>\n",
       "    </tr>\n",
       "    <tr>\n",
       "      <th>49</th>\n",
       "      <td>              PUERTO RICO</td>\n",
       "      <td>    87</td>\n",
       "    </tr>\n",
       "    <tr>\n",
       "      <th>50</th>\n",
       "      <td>                  VERMONT</td>\n",
       "      <td>    50</td>\n",
       "    </tr>\n",
       "    <tr>\n",
       "      <th>51</th>\n",
       "      <td>                  WYOMING</td>\n",
       "      <td>    46</td>\n",
       "    </tr>\n",
       "    <tr>\n",
       "      <th>52</th>\n",
       "      <td>             UNDETERMINED</td>\n",
       "      <td>    28</td>\n",
       "    </tr>\n",
       "    <tr>\n",
       "      <th>53</th>\n",
       "      <td>           VIRGIN ISLANDS</td>\n",
       "      <td>    22</td>\n",
       "    </tr>\n",
       "    <tr>\n",
       "      <th>54</th>\n",
       "      <td>           AMERICAN SAMOA</td>\n",
       "      <td>     8</td>\n",
       "    </tr>\n",
       "    <tr>\n",
       "      <th>55</th>\n",
       "      <td> NORTHERN MARIANA ISLANDS</td>\n",
       "      <td>     4</td>\n",
       "    </tr>\n",
       "    <tr>\n",
       "      <th>56</th>\n",
       "      <td>                     GUAM</td>\n",
       "      <td>     4</td>\n",
       "    </tr>\n",
       "  </tbody>\n",
       "</table>\n",
       "</div>"
      ],
      "text/plain": [
       "                         _c0  count\n",
       "0       DISTRICT OF COLUMBIA  28528\n",
       "1                 CALIFORNIA   7250\n",
       "2                   VIRGINIA   7113\n",
       "3                   NEW YORK   4495\n",
       "4                      TEXAS   3848\n",
       "5                    FLORIDA   2914\n",
       "6                   ILLINOIS   2542\n",
       "7               PENNSYLVANIA   2269\n",
       "8                   MARYLAND   2255\n",
       "9              MASSACHUSETTS   2062\n",
       "10                NEW JERSEY   1757\n",
       "11                      OHIO   1703\n",
       "12                WASHINGTON   1599\n",
       "13                   GEORGIA   1310\n",
       "14                  COLORADO   1266\n",
       "15            NORTH CAROLINA   1131\n",
       "16                  MISSOURI   1122\n",
       "17                 MINNESOTA   1050\n",
       "18                  MICHIGAN   1032\n",
       "19               CONNECTICUT    974\n",
       "20                   ARIZONA    908\n",
       "21                   INDIANA    858\n",
       "22                    OREGON    829\n",
       "23                 LOUISIANA    783\n",
       "24                 WISCONSIN    780\n",
       "25                    ALASKA    706\n",
       "26                   ALABAMA    699\n",
       "27                 TENNESSEE    680\n",
       "28                  KENTUCKY    650\n",
       "29                  OKLAHOMA    599\n",
       "30                    NEVADA    564\n",
       "31                      UTAH    559\n",
       "32            SOUTH CAROLINA    459\n",
       "33                    KANSAS    422\n",
       "34                NEW MEXICO    356\n",
       "35               MISSISSIPPI    316\n",
       "36                      IOWA    292\n",
       "37                  NEBRASKA    247\n",
       "38                  DELAWARE    243\n",
       "39                     IDAHO    237\n",
       "40                  ARKANSAS    229\n",
       "41                   MONTANA    208\n",
       "42              SOUTH DAKOTA    193\n",
       "43             NEW HAMPSHIRE    159\n",
       "44                     MAINE    146\n",
       "45              RHODE ISLAND    146\n",
       "46              NORTH DAKOTA    142\n",
       "47             WEST VIRGINIA    117\n",
       "48                    HAWAII     97\n",
       "49               PUERTO RICO     87\n",
       "50                   VERMONT     50\n",
       "51                   WYOMING     46\n",
       "52              UNDETERMINED     28\n",
       "53            VIRGIN ISLANDS     22\n",
       "54            AMERICAN SAMOA      8\n",
       "55  NORTHERN MARIANA ISLANDS      4\n",
       "56                      GUAM      4"
      ]
     },
     "execution_count": 20,
     "metadata": {},
     "output_type": "execute_result"
    }
   ],
   "source": [
    "ClientState_flat_sorted_pandas = ClientState_flat_sorted_df.toPandas()\n",
    "ClientState_flat_sorted_pandas"
   ]
  },
  {
   "cell_type": "code",
   "execution_count": 21,
   "metadata": {
    "collapsed": false
   },
   "outputs": [
    {
     "data": {
      "image/png": "[encoded data removed]",
      "text/plain": [
       "<matplotlib.figure.Figure at 0x7f9c201525d0>"
      ]
     },
     "metadata": {},
     "output_type": "display_data"
    }
   ],
   "source": [
    "%matplotlib inline\n",
    "import matplotlib\n",
    "import numpy as np\n",
    "import matplotlib.pyplot as plt\n",
    "\n",
    "ind=np.arange(6)\n",
    "width = 0.35\n",
    "bar = plt.bar(ind, ClientState_flat_sorted_pandas[\"count\"][0:6], width, color='b', label = \"Lobbying numbers in the state\")\n",
    "\n",
    "params = plt.gcf()\n",
    "plSize = params.get_size_inches()\n",
    "params.set_size_inches( (plSize[0]*2.5, plSize[1]*2) )\n",
    "plt.ylabel('Lobbying numbers')\n",
    "plt.xlabel('State in USA')\n",
    "plt.title('Top 6 states for heavily lobbying')\n",
    "plt.xticks(ind+width-0.1, ClientState_flat_sorted_pandas[\"_c0\"][0:6])\n",
    "plt.legend()\n",
    "\n",
    "plt.show()"
   ]
  },
  {
   "cell_type": "code",
   "execution_count": 22,
   "metadata": {
    "collapsed": true
   },
   "outputs": [],
   "source": [
    "issues = sqlContext.sql(\"select lobbyings.PublicFilings.Filing.Issues.Issue as issue from lobbyings\")"
   ]
  },
  {
   "cell_type": "code",
   "execution_count": 23,
   "metadata": {
    "collapsed": false
   },
   "outputs": [
    {
     "name": "stdout",
     "output_type": "stream",
     "text": [
      "+--------------------+\n",
      "|               issue|\n",
      "+--------------------+\n",
      "|                null|\n",
      "|List({\"@Code\":\"HE...|\n",
      "|List({\"@Code\":\"DE...|\n",
      "|List([{\"@Code\":\"E...|\n",
      "|List([{\"@Code\":\"T...|\n",
      "|List([{\"@Code\":\"T...|\n",
      "|List(null, [{\"@Co...|\n",
      "|List(null, null, ...|\n",
      "|List({\"@Code\":\"TE...|\n",
      "|List(null, null, ...|\n",
      "|List({\"@Code\":\"CO...|\n",
      "|List([{\"@Code\":\"B...|\n",
      "|List([{\"@Code\":\"C...|\n",
      "|List([{\"@Code\":\"F...|\n",
      "|List([{\"@Code\":\"F...|\n",
      "|List([{\"@Code\":\"C...|\n",
      "|List([{\"@Code\":\"E...|\n",
      "|List([{\"@Code\":\"T...|\n",
      "|List({\"@Code\":\"VE...|\n",
      "|List([{\"@Code\":\"T...|\n",
      "+--------------------+\n",
      "\n"
     ]
    }
   ],
   "source": [
    "issues.show()"
   ]
  },
  {
   "cell_type": "code",
   "execution_count": 24,
   "metadata": {
    "collapsed": true
   },
   "outputs": [],
   "source": [
    "issue_flat = issues.select(explode(issues.issue))"
   ]
  },
  {
   "cell_type": "code",
   "execution_count": 25,
   "metadata": {
    "collapsed": false
   },
   "outputs": [
    {
     "name": "stdout",
     "output_type": "stream",
     "text": [
      "+--------------------+\n",
      "|                 _c0|\n",
      "+--------------------+\n",
      "|{\"@Code\":\"HEALTH ...|\n",
      "|                null|\n",
      "|[{\"@Code\":\"BUDGET...|\n",
      "|{\"@Code\":\"HEALTH ...|\n",
      "|{\"@Code\":\"TAXATIO...|\n",
      "|                null|\n",
      "|{\"@Code\":\"TELECOM...|\n",
      "|[{\"@Code\":\"TAXATI...|\n",
      "|                null|\n",
      "|{\"@Code\":\"IMMIGRA...|\n",
      "|{\"@Code\":\"IMMIGRA...|\n",
      "|                null|\n",
      "|{\"@Code\":\"FINANCI...|\n",
      "|{\"@Code\":\"IMMIGRA...|\n",
      "|{\"@Code\":\"IMMIGRA...|\n",
      "|{\"@Code\":\"IMMIGRA...|\n",
      "|{\"@Code\":\"IMMIGRA...|\n",
      "|                null|\n",
      "|                null|\n",
      "|                null|\n",
      "+--------------------+\n",
      "\n"
     ]
    }
   ],
   "source": [
    "issue_flat.show()"
   ]
  },
  {
   "cell_type": "code",
   "execution_count": 29,
   "metadata": {
    "collapsed": false
   },
   "outputs": [
    {
     "name": "stdout",
     "output_type": "stream",
     "text": [
      "root\n",
      " |-- _c0: string (nullable = true)\n",
      "\n"
     ]
    }
   ],
   "source": [
    "issue_flat.printSchema()"
   ]
  },
  {
   "cell_type": "code",
   "execution_count": 31,
   "metadata": {
    "collapsed": false
   },
   "outputs": [
    {
     "name": "stdout",
     "output_type": "stream",
     "text": [
      "93575\n"
     ]
    }
   ],
   "source": [
    "print issue_flat.count()"
   ]
  },
  {
   "cell_type": "code",
   "execution_count": 33,
   "metadata": {
    "collapsed": false
   },
   "outputs": [],
   "source": [
    "issue_flat.registerTempTable(\"issue_flat\");\n",
    "sqlContext.cacheTable(\"issue_flat\")\n",
    "issue_flatNew = sqlContext.sql(\"SELECT * FROM issue_flat where _c0 not like '[%' and _c0 is not null\")"
   ]
  },
  {
   "cell_type": "code",
   "execution_count": 34,
   "metadata": {
    "collapsed": false
   },
   "outputs": [
    {
     "name": "stdout",
     "output_type": "stream",
     "text": [
      "+--------------------+\n",
      "|                 _c0|\n",
      "+--------------------+\n",
      "|{\"@Code\":\"HEALTH ...|\n",
      "|{\"@Code\":\"HEALTH ...|\n",
      "|{\"@Code\":\"TAXATIO...|\n",
      "|{\"@Code\":\"TELECOM...|\n",
      "|{\"@Code\":\"IMMIGRA...|\n",
      "|{\"@Code\":\"IMMIGRA...|\n",
      "|{\"@Code\":\"FINANCI...|\n",
      "|{\"@Code\":\"IMMIGRA...|\n",
      "|{\"@Code\":\"IMMIGRA...|\n",
      "|{\"@Code\":\"IMMIGRA...|\n",
      "|{\"@Code\":\"IMMIGRA...|\n",
      "|{\"@Code\":\"TRADE (...|\n",
      "|{\"@Code\":\"ENERGY/...|\n",
      "|{\"@Code\":\"ENERGY/...|\n",
      "|{\"@Code\":\"ENERGY/...|\n",
      "|{\"@Code\":\"ENERGY/...|\n",
      "|{\"@Code\":\"BANKING...|\n",
      "|{\"@Code\":\"TARIFF ...|\n",
      "|{\"@Code\":\"LABOR I...|\n",
      "|{\"@Code\":\"TARIFF ...|\n",
      "+--------------------+\n",
      "\n"
     ]
    }
   ],
   "source": [
    "issue_flatNew.show()"
   ]
  },
  {
   "cell_type": "code",
   "execution_count": 35,
   "metadata": {
    "collapsed": true
   },
   "outputs": [],
   "source": [
    "pandas = issue_flatNew.toPandas()"
   ]
  },
  {
   "cell_type": "code",
   "execution_count": 36,
   "metadata": {
    "collapsed": true
   },
   "outputs": [],
   "source": [
    "for index, row in pandas.iterrows():\n",
    "   row['_c0'] = row['_c0'].split(\",\")[0].split(\":\")[1]"
   ]
  },
  {
   "cell_type": "code",
   "execution_count": 37,
   "metadata": {
    "collapsed": false
   },
   "outputs": [
    {
     "name": "stdout",
     "output_type": "stream",
     "text": [
      "                                                   _c0\n",
      "0                                      \"HEALTH ISSUES\"\n",
      "1                                      \"HEALTH ISSUES\"\n",
      "2                     \"TAXATION/INTERNAL REVENUE CODE\"\n",
      "3                                 \"TELECOMMUNICATIONS\"\n",
      "4                                        \"IMMIGRATION\"\n",
      "5                                        \"IMMIGRATION\"\n",
      "6      \"FINANCIAL INSTITUTIONS/INVESTMENTS/SECURITIES\"\n",
      "7                                        \"IMMIGRATION\"\n",
      "8                                        \"IMMIGRATION\"\n",
      "9                                        \"IMMIGRATION\"\n",
      "10                                       \"IMMIGRATION\"\n",
      "11                          \"TRADE (DOMESTIC/FOREIGN)\"\n",
      "12                                    \"ENERGY/NUCLEAR\"\n",
      "13                                    \"ENERGY/NUCLEAR\"\n",
      "14                                    \"ENERGY/NUCLEAR\"\n",
      "15                                    \"ENERGY/NUCLEAR\"\n",
      "16                                           \"BANKING\"\n",
      "17               \"TARIFF (MISCELLANEOUS TARIFF BILLS)\"\n",
      "18                  \"LABOR ISSUES/ANTITRUST/WORKPLACE\"\n",
      "19               \"TARIFF (MISCELLANEOUS TARIFF BILLS)\"\n",
      "20                                     \"HEALTH ISSUES\"\n",
      "21                                     \"HEALTH ISSUES\"\n",
      "22                                \"TELECOMMUNICATIONS\"\n",
      "23              \"COMMUNICATIONS/BROADCASTING/RADIO/TV\"\n",
      "24                                       \"AGRICULTURE\"\n",
      "25                                       \"AGRICULTURE\"\n",
      "26                                       \"AGRICULTURE\"\n",
      "27                                 \"NATURAL RESOURCES\"\n",
      "28                                     \"MANUFACTURING\"\n",
      "29                                 \"NATURAL RESOURCES\"\n",
      "...                                                ...\n",
      "41164                       \"TRADE (DOMESTIC/FOREIGN)\"\n",
      "41165                                 \"TRANSPORTATION\"\n",
      "41166                                 \"TRANSPORTATION\"\n",
      "41167                              \"HOMELAND SECURITY\"\n",
      "41168                              \"HOMELAND SECURITY\"\n",
      "41169                                 \"TRANSPORTATION\"\n",
      "41170                                 \"TRANSPORTATION\"\n",
      "41171                 \"INDIAN/NATIVE AMERICAN AFFAIRS\"\n",
      "41172                 \"INDIAN/NATIVE AMERICAN AFFAIRS\"\n",
      "41173                 \"ECONOMICS/ECONOMIC DEVELOPMENT\"\n",
      "41174                 \"ECONOMICS/ECONOMIC DEVELOPMENT\"\n",
      "41175                                 \"ENERGY/NUCLEAR\"\n",
      "41176                                 \"ENERGY/NUCLEAR\"\n",
      "41177                                 \"ENERGY/NUCLEAR\"\n",
      "41178                                 \"ENERGY/NUCLEAR\"\n",
      "41179                              \"FOREIGN RELATIONS\"\n",
      "41180                 \"TAXATION/INTERNAL REVENUE CODE\"\n",
      "41181                 \"TAXATION/INTERNAL REVENUE CODE\"\n",
      "41182                 \"TAXATION/INTERNAL REVENUE CODE\"\n",
      "41183                                        \"DEFENSE\"\n",
      "41184                                 \"ENERGY/NUCLEAR\"\n",
      "41185                                 \"ENERGY/NUCLEAR\"\n",
      "41186                                      \"EDUCATION\"\n",
      "41187                                      \"EDUCATION\"\n",
      "41188                                      \"EDUCATION\"\n",
      "41189                                  \"HEALTH ISSUES\"\n",
      "41190  \"FINANCIAL INSTITUTIONS/INVESTMENTS/SECURITIES\"\n",
      "41191  \"FINANCIAL INSTITUTIONS/INVESTMENTS/SECURITIES\"\n",
      "41192                                 \"ENERGY/NUCLEAR\"\n",
      "41193                                 \"ENERGY/NUCLEAR\"\n",
      "\n",
      "[41194 rows x 1 columns]\n"
     ]
    }
   ],
   "source": [
    "print pandas"
   ]
  },
  {
   "cell_type": "code",
   "execution_count": 38,
   "metadata": {
    "collapsed": true
   },
   "outputs": [],
   "source": [
    "spark_issue = sqlContext.createDataFrame(pandas)"
   ]
  },
  {
   "cell_type": "code",
   "execution_count": 39,
   "metadata": {
    "collapsed": false
   },
   "outputs": [
    {
     "name": "stdout",
     "output_type": "stream",
     "text": [
      "root\n",
      " |-- _c0: string (nullable = true)\n",
      "\n"
     ]
    }
   ],
   "source": [
    "spark_issue.printSchema()"
   ]
  },
  {
   "cell_type": "code",
   "execution_count": 40,
   "metadata": {
    "collapsed": true
   },
   "outputs": [],
   "source": [
    "spark_issueGroup = spark_issue.groupBy('_c0').count()"
   ]
  },
  {
   "cell_type": "code",
   "execution_count": 41,
   "metadata": {
    "collapsed": true
   },
   "outputs": [],
   "source": [
    "issue_sorted_df = spark_issueGroup.sort([\"count\"],ascending=False)"
   ]
  },
  {
   "cell_type": "code",
   "execution_count": 42,
   "metadata": {
    "collapsed": false
   },
   "outputs": [
    {
     "name": "stdout",
     "output_type": "stream",
     "text": [
      "+--------------------+-----+\n",
      "|                 _c0|count|\n",
      "+--------------------+-----+\n",
      "|     \"HEALTH ISSUES\"| 4538|\n",
      "|\"TAXATION/INTERNA...| 3046|\n",
      "|\"BUDGET/APPROPRIA...| 2801|\n",
      "|           \"DEFENSE\"| 2434|\n",
      "| \"MEDICARE/MEDICAID\"| 2366|\n",
      "|    \"ENERGY/NUCLEAR\"| 1858|\n",
      "|\"FINANCIAL INSTIT...| 1784|\n",
      "|         \"EDUCATION\"| 1658|\n",
      "|    \"TRANSPORTATION\"| 1563|\n",
      "|\"TRADE (DOMESTIC/...| 1220|\n",
      "|\"TELECOMMUNICATIONS\"| 1218|\n",
      "|\"INDIAN/NATIVE AM...| 1019|\n",
      "|\"ENVIRONMENT/SUPE...|  847|\n",
      "| \"GOVERNMENT ISSUES\"|  843|\n",
      "|       \"AGRICULTURE\"|  820|\n",
      "|           \"BANKING\"|  795|\n",
      "| \"NATURAL RESOURCES\"|  784|\n",
      "|\"AVIATION/AIRLINE...|  562|\n",
      "| \"FOREIGN RELATIONS\"|  561|\n",
      "|\"MARINE/MARITIME/...|  546|\n",
      "+--------------------+-----+\n",
      "\n"
     ]
    }
   ],
   "source": [
    "issue_sorted_df.show()"
   ]
  },
  {
   "cell_type": "code",
   "execution_count": 43,
   "metadata": {
    "collapsed": true
   },
   "outputs": [],
   "source": [
    "issue_sorted_pandas = issue_sorted_df.toPandas()"
   ]
  },
  {
   "cell_type": "code",
   "execution_count": 45,
   "metadata": {
    "collapsed": false
   },
   "outputs": [
    {
     "data": {
      "image/png": "[encoded data removed]",
      "text/plain": [
       "<matplotlib.figure.Figure at 0x7f9c200b2050>"
      ]
     },
     "metadata": {},
     "output_type": "display_data"
    }
   ],
   "source": [
    "%matplotlib inline \n",
    "import pandas as pd\n",
    "import matplotlib.pyplot as plt\n",
    "\n",
    "issue_sums = issue_sorted_pandas[\"count\"][0:9]\n",
    "other_sums = issue_sorted_pandas[\"count\"][9:].sum()\n",
    "issue_sums[9] = other_sums\n",
    "issue_index = issue_sorted_pandas[\"_c0\"][:9]\n",
    "issue_index[9] = \"OTHERS\"\n",
    "\n",
    "plt.axis('equal')\n",
    "plt.title(\"Lobbying issue percentage\",y=1.08)\n",
    "plt.pie(\n",
    "    issue_sums,\n",
    "    labels=issue_index,\n",
    "    colors=['blue', 'green', 'red', 'turquoise', 'magenta','yellow', \"beige\", 'gold', 'lightskyblue', 'lightcoral'],\n",
    "    autopct=\"%1.2f%%\",\n",
    "    radius=1.25);"
   ]
  },
  {
   "cell_type": "code",
   "execution_count": null,
   "metadata": {
    "collapsed": true
   },
   "outputs": [],
   "source": []
  }
 ],
 "metadata": {
  "kernelspec": {
   "display_name": "Python 2",
   "language": "python",
   "name": "python2"
  },
  "language_info": {
   "codemirror_mode": {
    "name": "ipython",
    "version": 2
   },
   "file_extension": ".py",
   "mimetype": "text/x-python",
   "name": "python",
   "nbconvert_exporter": "python",
   "pygments_lexer": "ipython2",
   "version": "2.7.9"
  }
 },
 "nbformat": 4,
 "nbformat_minor": 0
}